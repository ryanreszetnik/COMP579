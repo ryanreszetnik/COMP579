{
  "nbformat": 4,
  "nbformat_minor": 0,
  "metadata": {
    "colab": {
      "provenance": []
    },
    "kernelspec": {
      "name": "python3",
      "display_name": "Python 3"
    },
    "language_info": {
      "name": "python"
    }
  },
  "cells": [
    {
      "cell_type": "markdown",
      "source": [
        "# COMP579 Assignment 2\n",
        "\n",
        "**Coding: Tabular RL [70 points]**"
      ],
      "metadata": {
        "id": "ALnFQQHn1QME"
      }
    },
    {
      "cell_type": "code",
      "execution_count": null,
      "metadata": {
        "id": "VlHR8XcY483f"
      },
      "outputs": [],
      "source": [
        "import gym\n",
        "import numpy as np\n",
        "import matplotlib.pyplot as plt"
      ]
    },
    {
      "cell_type": "code",
      "source": [
        "def softmax(x, temp):\n",
        "  # write your solution here\n",
        "  return"
      ],
      "metadata": {
        "colab": {
          "base_uri": "https://localhost:8080/"
        },
        "id": "i4KZyIS-5LxK",
        "outputId": "e074b368-abb2-49f2-c3fd-851279cdb8ed"
      },
      "execution_count": null,
      "outputs": [
        {
          "output_type": "stream",
          "name": "stderr",
          "text": [
            "/usr/local/lib/python3.10/dist-packages/ipykernel/ipkernel.py:283: DeprecationWarning: `should_run_async` will not call `transform_cell` automatically in the future. Please pass the result to `transformed_cell` argument and any exception that happen during thetransform in `preprocessing_exc_tuple` in IPython 7.17 and above.\n",
            "  and should_run_async(code)\n"
          ]
        }
      ]
    },
    {
      "cell_type": "code",
      "source": [
        "class Sarsa:\n",
        "  def __init__(self, env, alpha, gamma, temp):\n",
        "    # write your solution here\n",
        "    self.env = env\n",
        "    self.alpha = alpha\n",
        "    self.gamma = gamma\n",
        "    self.temp = temp\n",
        "    self.Q = None\n",
        "\n",
        "  def select_action(self, s, greedy=False):\n",
        "    # write your solution here\n",
        "    if greedy:\n",
        "      # if finished training, then choose the optimal policy\n",
        "      return\n",
        "    else:\n",
        "      return\n",
        "\n",
        "  def update(self, s, a, r, s_prime, a_prime, done):\n",
        "    # write your solution here\n",
        "    return\n",
        "\n",
        "\n",
        "class ExpectedSarsa:\n",
        "  def __init__(self, env, alpha, gamma, temp):\n",
        "    # write your solution here\n",
        "    self.env = None\n",
        "    self.alpha = None\n",
        "    self.gamma = None\n",
        "    self.temp = None\n",
        "    self.Q = None\n",
        "    return\n",
        "\n",
        "  def select_action(self, s, greedy=False):\n",
        "    # write your solution here\n",
        "    if greedy:\n",
        "      # if finished training, then choose the optimal policy\n",
        "      return\n",
        "    else:\n",
        "      return\n",
        "\n",
        "  def update(self, s, a, r, s_prime, a_prime, done):\n",
        "    # write your solution here\n",
        "    return\n",
        "\n",
        "# bonus question, optional\n",
        "class Hybrid_Sarsa_Q:\n",
        "  def __init__(self, env, alpha, gamma, temp):\n",
        "    # write your solution here\n",
        "    self.env = None\n",
        "    self.alpha = None\n",
        "    self.gamma = None\n",
        "    self.temp = None\n",
        "    self.Q = None\n",
        "    return\n",
        "\n",
        "  def select_action(self, s, greedy=False):\n",
        "    # write your solution here\n",
        "    if greedy:\n",
        "      # if finished training, then choose the optimal policy\n",
        "      return\n",
        "    else:\n",
        "      return\n",
        "\n",
        "  def update(self, s, a, r, s_prime, a_prime, done):\n",
        "    # write your solution here\n",
        "    return"
      ],
      "metadata": {
        "id": "gttYBrHj5Yal"
      },
      "execution_count": null,
      "outputs": []
    },
    {
      "cell_type": "markdown",
      "source": [
        "# Write your experiment code below"
      ],
      "metadata": {
        "id": "Sazk2zxT8jD7"
      }
    },
    {
      "cell_type": "code",
      "source": [
        "env_name = 'Taxi-v3'\n",
        "env = gym.make(env_name)\n",
        "print(\"Action space:\", env.action_space)\n",
        "print(\"State space:\", env.observation_space)"
      ],
      "metadata": {
        "colab": {
          "base_uri": "https://localhost:8080/"
        },
        "id": "OevfjgjL8mFk",
        "outputId": "49142b56-db73-4558-c0a9-96acde134295"
      },
      "execution_count": null,
      "outputs": [
        {
          "output_type": "stream",
          "name": "stdout",
          "text": [
            "Action space: Discrete(6)\n",
            "State space: Discrete(500)\n"
          ]
        },
        {
          "output_type": "stream",
          "name": "stderr",
          "text": [
            "/usr/local/lib/python3.10/dist-packages/gym/core.py:317: DeprecationWarning: \u001b[33mWARN: Initializing wrapper in old step API which returns one bool instead of two. It is recommended to set `new_step_api=True` to use new step API. This will be the default behaviour in future.\u001b[0m\n",
            "  deprecation(\n",
            "/usr/local/lib/python3.10/dist-packages/gym/wrappers/step_api_compatibility.py:39: DeprecationWarning: \u001b[33mWARN: Initializing environment in old step API which returns one bool instead of two. It is recommended to set `new_step_api=True` to use new step API. This will be the default behaviour in future.\u001b[0m\n",
            "  deprecation(\n"
          ]
        }
      ]
    },
    {
      "cell_type": "code",
      "source": [
        "# function that runs each episode\n",
        "\n",
        "# function that runs each hyperparameter setting\n"
      ],
      "metadata": {
        "id": "NWTmONa1BgaV"
      },
      "execution_count": null,
      "outputs": []
    },
    {
      "cell_type": "code",
      "source": [],
      "metadata": {
        "id": "-v-lS7pZ29Nv"
      },
      "execution_count": null,
      "outputs": []
    }
  ]
}
{
 "cells": [
  {
   "cell_type": "markdown",
   "metadata": {
    "id": "ALnFQQHn1QME"
   },
   "source": [
    "# COMP579 Assignment 2\n",
    "\n",
    "Authors:\n",
    "* Ryan Reszetnik: 260948454\n",
    "* Mathieu Geoffroy: 260986559\n",
    "\n",
    "**Coding: Tabular RL [70 points]**"
   ]
  },
  {
   "cell_type": "code",
   "execution_count": 1,
   "metadata": {
    "id": "VlHR8XcY483f",
    "ExecuteTime": {
     "end_time": "2024-02-23T02:17:50.744190Z",
     "start_time": "2024-02-23T02:17:50.063173Z"
    }
   },
   "outputs": [],
   "source": [
    "import gym\n",
    "import numpy as np\n",
    "import matplotlib.pyplot as plt"
   ]
  },
  {
   "cell_type": "code",
   "execution_count": 42,
   "metadata": {
    "colab": {
     "base_uri": "https://localhost:8080/"
    },
    "id": "i4KZyIS-5LxK",
    "outputId": "e074b368-abb2-49f2-c3fd-851279cdb8ed",
    "ExecuteTime": {
     "end_time": "2024-02-23T03:20:02.367917Z",
     "start_time": "2024-02-23T03:20:02.356112Z"
    }
   },
   "outputs": [],
   "source": [
    "def softmax(x, temp):\n",
    "    # write your solution here\n",
    "    e = np.exp((x - np.max(x)) / temp)\n",
    "    return e / e.sum(axis=0)"
   ]
  },
  {
   "cell_type": "code",
   "execution_count": 43,
   "metadata": {
    "id": "gttYBrHj5Yal",
    "ExecuteTime": {
     "end_time": "2024-02-23T03:20:02.690778Z",
     "start_time": "2024-02-23T03:20:02.686385Z"
    }
   },
   "outputs": [],
   "source": [
    "class Sarsa:\n",
    "    def __init__(self, env, alpha, gamma, temp):\n",
    "        # write your solution here\n",
    "        self.env = env\n",
    "        self.alpha = alpha\n",
    "        self.gamma = gamma\n",
    "        self.temp = temp\n",
    "        self.Q = np.zeros([env.observation_space.n, env.action_space.n])\n",
    "\n",
    "    def select_action(self, s, greedy=False):\n",
    "        # write your solution here\n",
    "        if greedy:\n",
    "            return np.argmax(self.Q[s])\n",
    "        else:\n",
    "            return np.random.choice(self.env.action_space.n, p=softmax(self.Q[s], self.temp))\n",
    "\n",
    "    def update(self, s, a, r, s_prime, a_prime, done):\n",
    "        # write your solution here\n",
    "        prediction = self.Q[s, a]\n",
    "        target = r + (self.gamma * self.Q[s_prime, a_prime]) * (1 - done)\n",
    "        self.Q[s, a] += self.alpha * (target - prediction)\n",
    "        return self.Q\n",
    "\n",
    "\n",
    "class ExpectedSarsa:\n",
    "    def __init__(self, env, alpha, gamma, temp):\n",
    "        # write your solution here\n",
    "        self.env = env\n",
    "        self.alpha = alpha\n",
    "        self.gamma = gamma\n",
    "        self.temp = temp\n",
    "        self.Q = np.zeros([env.observation_space.n, env.action_space.n])\n",
    "\n",
    "    def select_action(self, s, greedy=False):\n",
    "        # write your solution here\n",
    "        if greedy:\n",
    "            # if finished training, then choose the optimal policy\n",
    "            return np.argmax(self.Q[s])\n",
    "        else:\n",
    "            return np.random.choice(self.env.action_space.n, p=softmax(self.Q[s], self.temp))\n",
    "\n",
    "    def update(self, s, a, r, s_prime, a_prime, done):\n",
    "        prediction = self.Q[s, a]\n",
    "        if done:\n",
    "            target = r\n",
    "        else:\n",
    "            target = r + self.gamma * np.sum(softmax(self.Q[s_prime, :], self.temp) * self.Q[s_prime, :])\n",
    "        self.Q[s, a] += self.alpha * (target - prediction)\n",
    "        return self.Q\n",
    "        \n",
    "        \n",
    "\n",
    "\n",
    "# bonus question, optional\n",
    "class Hybrid_Sarsa_Q:\n",
    "    def __init__(self, env, alpha, gamma, temp):\n",
    "        # write your solution here\n",
    "        self.env = env\n",
    "        self.alpha = alpha\n",
    "        self.gamma = gamma\n",
    "        self.temp = temp\n",
    "        self.Q = np.zeros([env.observation_space.n, env.action_space.n])\n",
    "        return\n",
    "\n",
    "    def select_action(self, s, greedy=False):\n",
    "        # write your solution here\n",
    "        if greedy:\n",
    "            # if finished training, then choose the optimal policy\n",
    "            return np.argmax(self.Q[s])\n",
    "        else:\n",
    "            return np.random.choice(self.env.action_space.n, p=softmax(self.Q[s], self.temp))\n",
    "\n",
    "    def update(self, s, a, r, s_prime, a_prime, done):\n",
    "        # write your solution here\n",
    "        return"
   ]
  },
  {
   "cell_type": "markdown",
   "metadata": {
    "id": "Sazk2zxT8jD7"
   },
   "source": [
    "# Write your experiment code below"
   ]
  },
  {
   "cell_type": "code",
   "execution_count": 44,
   "metadata": {
    "colab": {
     "base_uri": "https://localhost:8080/"
    },
    "id": "OevfjgjL8mFk",
    "outputId": "49142b56-db73-4558-c0a9-96acde134295",
    "ExecuteTime": {
     "end_time": "2024-02-23T03:20:03.388865Z",
     "start_time": "2024-02-23T03:20:03.386736Z"
    }
   },
   "outputs": [
    {
     "name": "stdout",
     "output_type": "stream",
     "text": [
      "Action space: Discrete(6)\n",
      "State space: Discrete(500)\n"
     ]
    }
   ],
   "source": [
    "env_name = 'Taxi-v3'\n",
    "env = gym.make(env_name)\n",
    "print(\"Action space:\", env.action_space)\n",
    "print(\"State space:\", env.observation_space)"
   ]
  },
  {
   "cell_type": "code",
   "execution_count": 48,
   "metadata": {
    "id": "NWTmONa1BgaV",
    "ExecuteTime": {
     "end_time": "2024-02-23T03:42:27.311848Z",
     "start_time": "2024-02-23T03:42:27.300216Z"
    }
   },
   "outputs": [],
   "source": [
    "# function that runs each episode\n",
    "def run_episode(agent, env, train=False):\n",
    "    s, _ = env.reset()\n",
    "    done = False\n",
    "    episode_reward = 0\n",
    "    step = 0\n",
    "    a = agent.select_action(s, not train)\n",
    "    while not done and step < 1000:\n",
    "        s_prime, r, terminated, truncated, _ = env.step(a)\n",
    "        done = terminated or truncated\n",
    "        a_prime = agent.select_action(s_prime, not train)\n",
    "        if train:\n",
    "            agent.update(s, a, r, s_prime, a_prime, done)\n",
    "        \n",
    "        s = s_prime\n",
    "        a = a_prime\n",
    "        episode_reward += r\n",
    "        step += 1\n",
    "        \n",
    "        if done:\n",
    "            break\n",
    "            \n",
    "    return episode_reward\n",
    "            \n",
    "# function that runs each hyperparameter setting\n",
    "def run_experiment(agent, env, num_segments):\n",
    "    testing_rewards = np.zeros(num_segments)\n",
    "    training_rewards = np.zeros(num_segments)\n",
    "    for i in range(num_segments):\n",
    "        for j in range(10):\n",
    "            r = run_episode(agent, env, train=True)\n",
    "            training_rewards[i] += r\n",
    "        training_rewards[i] /= 10\n",
    "        testing_rewards[i] = run_episode(agent, env, train=False)\n",
    "    return training_rewards, testing_rewards\n"
   ]
  },
  {
   "cell_type": "code",
   "execution_count": 53,
   "metadata": {
    "collapsed": false,
    "ExecuteTime": {
     "end_time": "2024-02-23T04:08:11.244886Z",
     "start_time": "2024-02-23T04:08:11.241432Z"
    }
   },
   "outputs": [],
   "source": [
    "# define hyperparameter arrays\n",
    "num_segments = 500\n",
    "alphas = [0.001, 0.01, 0.1, 0.99]\n",
    "gamma = 0.95\n",
    "temps = [0.001, 0.01, 0.1, 1.]\n",
    "num_trials = 10"
   ]
  },
  {
   "cell_type": "code",
   "execution_count": null,
   "metadata": {
    "collapsed": false,
    "is_executing": true,
    "ExecuteTime": {
     "start_time": "2024-02-23T04:08:11.842836Z"
    }
   },
   "outputs": [
    {
     "name": "stdout",
     "output_type": "stream",
     "text": [
      "Running experiment for sarsa with alpha=0.001, gamma=0.95, temp=0.001...\n",
      "\tTrial 0 Reward: -380.0\n",
      "\tTrial 1 Reward: -200.0\n",
      "\tTrial 2 Reward: -200.0\n",
      "\tTrial 3 Reward: -200.0\n",
      "\tTrial 4 Reward: -200.0\n",
      "\tTrial 5 Reward: -200.0\n",
      "\tTrial 6 Reward: -380.0\n",
      "\tTrial 7 Reward: -736.4\n",
      "\tTrial 8 Reward: -558.2\n",
      "\tTrial 9 Reward: -200.0\n",
      "Running experiment for sarsa with alpha=0.001, gamma=0.95, temp=0.01...\n",
      "\tTrial 0 Reward: -200.0\n",
      "\tTrial 1 Reward: -200.0\n",
      "\tTrial 2 Reward: -200.0\n",
      "\tTrial 3 Reward: -200.0\n",
      "\tTrial 4 Reward: -200.0\n",
      "\tTrial 5 Reward: -200.0\n",
      "\tTrial 6 Reward: -200.0\n",
      "\tTrial 7 Reward: -200.0\n",
      "\tTrial 8 Reward: -200.0\n"
     ]
    }
   ],
   "source": [
    "# define sarsa agent\n",
    "sarsa_agents = [Sarsa(env, alpha, gamma, temp) for alpha in alphas for temp in temps]\n",
    "\n",
    "# define result array\n",
    "sarsa_test_rewards = np.zeros((num_trials, len(alphas), len(temps), num_segments))\n",
    "sarsa_train_rewards = np.zeros((num_trials, len(alphas), len(temps), num_segments))\n",
    "\n",
    "# run experiments for sarsa\n",
    "for agent in sarsa_agents:\n",
    "    print(f\"Running experiment for sarsa with alpha={agent.alpha}, gamma={agent.gamma}, temp={agent.temp}...\")\n",
    "    for trial in range(num_trials):\n",
    "        agent.__init__(env, agent.alpha, agent.gamma, agent.temp)\n",
    "        sarsa_train_rewards[trial, alphas.index(agent.alpha), temps.index(agent.temp)], sarsa_test_rewards[trial, alphas.index(agent.alpha), temps.index(agent.temp)] = run_experiment(agent, env, num_segments)\n",
    "        print(f\"\\tTrial {trial} Reward: {sarsa_test_rewards[trial, alphas.index(agent.alpha), temps.index(agent.temp), -10:].mean()}\")\n",
    "        \n",
    "# save results\n",
    "np.save(\"sarsa_test_rewards.npy\", sarsa_test_rewards)\n",
    "np.save(\"sarsa_train_rewards.npy\", sarsa_train_rewards)"
   ]
  },
  {
   "cell_type": "code",
   "outputs": [
    {
     "name": "stdout",
     "output_type": "stream",
     "text": [
      "Running experiment for expected sarsa with alpha=0.1, gamma=0.9, temp=0.1...\n"
     ]
    },
    {
     "name": "stderr",
     "output_type": "stream",
     "text": [
      "/Users/mathieugeoffroy/Library/Mobile Documents/com~apple~CloudDocs/McGill Winter 2024/COMP 579/COMP579/venv/lib/python3.11/site-packages/gym/utils/passive_env_checker.py:233: DeprecationWarning: `np.bool8` is a deprecated alias for `np.bool_`.  (Deprecated NumPy 1.24)\n",
      "  if not isinstance(terminated, (bool, np.bool8)):\n"
     ]
    },
    {
     "name": "stdout",
     "output_type": "stream",
     "text": [
      "\tTrial 0 Reward: 8.1\n",
      "\tTrial 1 Reward: 8.6\n",
      "\tTrial 2 Reward: 7.3\n",
      "\tTrial 3 Reward: 6.9\n",
      "\tTrial 4 Reward: 9.0\n",
      "\tTrial 5 Reward: 7.1\n",
      "\tTrial 6 Reward: 7.9\n",
      "\tTrial 7 Reward: 7.3\n",
      "\tTrial 8 Reward: 8.7\n",
      "\tTrial 9 Reward: 8.3\n",
      "Running experiment for expected sarsa with alpha=0.1, gamma=0.9, temp=0.5...\n",
      "\tTrial 0 Reward: 8.1\n",
      "\tTrial 1 Reward: 8.9\n",
      "\tTrial 2 Reward: 8.2\n",
      "\tTrial 3 Reward: 8.8\n",
      "\tTrial 4 Reward: 7.2\n",
      "\tTrial 5 Reward: 7.7\n",
      "\tTrial 6 Reward: 8.4\n",
      "\tTrial 7 Reward: 7.8\n",
      "\tTrial 8 Reward: 8.4\n",
      "\tTrial 9 Reward: 8.1\n",
      "Running experiment for expected sarsa with alpha=0.1, gamma=0.9, temp=0.75...\n",
      "\tTrial 0 Reward: 7.6\n",
      "\tTrial 1 Reward: 8.8\n",
      "\tTrial 2 Reward: 8.3\n",
      "\tTrial 3 Reward: 8.6\n",
      "\tTrial 4 Reward: 8.0\n",
      "\tTrial 5 Reward: 6.1\n",
      "\tTrial 6 Reward: 8.1\n",
      "\tTrial 7 Reward: 8.0\n",
      "\tTrial 8 Reward: 7.7\n",
      "\tTrial 9 Reward: 7.7\n",
      "Running experiment for expected sarsa with alpha=0.1, gamma=0.9, temp=1.0...\n",
      "\tTrial 0 Reward: 8.3\n",
      "\tTrial 1 Reward: 8.0\n",
      "\tTrial 2 Reward: 7.5\n",
      "\tTrial 3 Reward: 8.9\n",
      "\tTrial 4 Reward: 6.6\n",
      "\tTrial 5 Reward: 7.7\n",
      "\tTrial 6 Reward: 8.4\n",
      "\tTrial 7 Reward: 8.1\n",
      "\tTrial 8 Reward: 7.2\n",
      "\tTrial 9 Reward: 6.9\n",
      "Running experiment for expected sarsa with alpha=0.5, gamma=0.9, temp=0.1...\n",
      "\tTrial 0 Reward: 8.2\n",
      "\tTrial 1 Reward: 5.8\n",
      "\tTrial 2 Reward: 9.3\n",
      "\tTrial 3 Reward: 8.3\n",
      "\tTrial 4 Reward: 7.1\n",
      "\tTrial 5 Reward: 9.1\n",
      "\tTrial 6 Reward: 8.4\n",
      "\tTrial 7 Reward: 8.4\n",
      "\tTrial 8 Reward: 8.2\n",
      "\tTrial 9 Reward: 9.3\n",
      "Running experiment for expected sarsa with alpha=0.5, gamma=0.9, temp=0.5...\n",
      "\tTrial 0 Reward: 8.6\n",
      "\tTrial 1 Reward: 7.3\n",
      "\tTrial 2 Reward: 7.7\n",
      "\tTrial 3 Reward: 8.5\n",
      "\tTrial 4 Reward: 7.9\n",
      "\tTrial 5 Reward: 8.0\n",
      "\tTrial 6 Reward: 7.7\n",
      "\tTrial 7 Reward: 9.4\n",
      "\tTrial 8 Reward: 8.2\n",
      "\tTrial 9 Reward: 6.7\n",
      "Running experiment for expected sarsa with alpha=0.5, gamma=0.9, temp=0.75...\n",
      "\tTrial 0 Reward: 8.2\n",
      "\tTrial 1 Reward: 8.2\n",
      "\tTrial 2 Reward: 7.1\n",
      "\tTrial 3 Reward: 8.1\n",
      "\tTrial 4 Reward: 8.1\n",
      "\tTrial 5 Reward: 7.2\n",
      "\tTrial 6 Reward: 8.0\n",
      "\tTrial 7 Reward: 7.9\n",
      "\tTrial 8 Reward: 7.5\n",
      "\tTrial 9 Reward: 6.5\n",
      "Running experiment for expected sarsa with alpha=0.5, gamma=0.9, temp=1.0...\n",
      "\tTrial 0 Reward: 7.4\n",
      "\tTrial 1 Reward: 9.3\n",
      "\tTrial 2 Reward: 7.0\n",
      "\tTrial 3 Reward: 6.9\n",
      "\tTrial 4 Reward: 10.3\n",
      "\tTrial 5 Reward: 8.1\n",
      "\tTrial 6 Reward: 7.4\n",
      "\tTrial 7 Reward: 7.4\n",
      "\tTrial 8 Reward: 7.9\n",
      "\tTrial 9 Reward: 9.2\n",
      "Running experiment for expected sarsa with alpha=0.75, gamma=0.9, temp=0.1...\n",
      "\tTrial 0 Reward: 8.1\n",
      "\tTrial 1 Reward: 8.5\n",
      "\tTrial 2 Reward: 8.8\n",
      "\tTrial 3 Reward: 6.3\n",
      "\tTrial 4 Reward: 8.8\n",
      "\tTrial 5 Reward: 6.9\n",
      "\tTrial 6 Reward: 7.3\n",
      "\tTrial 7 Reward: 8.2\n",
      "\tTrial 8 Reward: 8.4\n",
      "\tTrial 9 Reward: 8.6\n",
      "Running experiment for expected sarsa with alpha=0.75, gamma=0.9, temp=0.5...\n",
      "\tTrial 0 Reward: 7.4\n",
      "\tTrial 1 Reward: 9.7\n",
      "\tTrial 2 Reward: 8.8\n",
      "\tTrial 3 Reward: 6.6\n",
      "\tTrial 4 Reward: 7.5\n",
      "\tTrial 5 Reward: 6.8\n",
      "\tTrial 6 Reward: 7.5\n",
      "\tTrial 7 Reward: 6.1\n",
      "\tTrial 8 Reward: 6.7\n",
      "\tTrial 9 Reward: 8.9\n",
      "Running experiment for expected sarsa with alpha=0.75, gamma=0.9, temp=0.75...\n",
      "\tTrial 0 Reward: 9.1\n",
      "\tTrial 1 Reward: 7.0\n",
      "\tTrial 2 Reward: 7.7\n",
      "\tTrial 3 Reward: 8.0\n",
      "\tTrial 4 Reward: 7.0\n",
      "\tTrial 5 Reward: 7.1\n",
      "\tTrial 6 Reward: 7.0\n",
      "\tTrial 7 Reward: 7.0\n",
      "\tTrial 8 Reward: 8.0\n",
      "\tTrial 9 Reward: 8.0\n",
      "Running experiment for expected sarsa with alpha=0.75, gamma=0.9, temp=1.0...\n",
      "\tTrial 0 Reward: 8.1\n",
      "\tTrial 1 Reward: 8.4\n",
      "\tTrial 2 Reward: 6.1\n",
      "\tTrial 3 Reward: 6.4\n",
      "\tTrial 4 Reward: 8.6\n",
      "\tTrial 5 Reward: 7.2\n",
      "\tTrial 6 Reward: 7.1\n",
      "\tTrial 7 Reward: 7.5\n",
      "\tTrial 8 Reward: 8.9\n",
      "\tTrial 9 Reward: 6.9\n",
      "Running experiment for expected sarsa with alpha=0.9, gamma=0.9, temp=0.1...\n",
      "\tTrial 0 Reward: 7.6\n",
      "\tTrial 1 Reward: 8.0\n",
      "\tTrial 2 Reward: 8.7\n",
      "\tTrial 3 Reward: 6.8\n",
      "\tTrial 4 Reward: 6.4\n",
      "\tTrial 5 Reward: 9.7\n",
      "\tTrial 6 Reward: 8.2\n",
      "\tTrial 7 Reward: 7.1\n",
      "\tTrial 8 Reward: 7.8\n",
      "\tTrial 9 Reward: 7.6\n",
      "Running experiment for expected sarsa with alpha=0.9, gamma=0.9, temp=0.5...\n",
      "\tTrial 0 Reward: 8.1\n",
      "\tTrial 1 Reward: 7.8\n",
      "\tTrial 2 Reward: 7.4\n",
      "\tTrial 3 Reward: 6.5\n",
      "\tTrial 4 Reward: 7.2\n",
      "\tTrial 5 Reward: 7.8\n",
      "\tTrial 6 Reward: 6.6\n",
      "\tTrial 7 Reward: 7.9\n",
      "\tTrial 8 Reward: 8.2\n",
      "\tTrial 9 Reward: 6.7\n",
      "Running experiment for expected sarsa with alpha=0.9, gamma=0.9, temp=0.75...\n",
      "\tTrial 0 Reward: 8.0\n",
      "\tTrial 1 Reward: 5.7\n",
      "\tTrial 2 Reward: 6.4\n",
      "\tTrial 3 Reward: 6.6\n",
      "\tTrial 4 Reward: 6.3\n",
      "\tTrial 5 Reward: 7.0\n",
      "\tTrial 6 Reward: 6.6\n",
      "\tTrial 7 Reward: 8.2\n",
      "\tTrial 8 Reward: 7.8\n",
      "\tTrial 9 Reward: 7.7\n",
      "Running experiment for expected sarsa with alpha=0.9, gamma=0.9, temp=1.0...\n",
      "\tTrial 0 Reward: 7.7\n",
      "\tTrial 1 Reward: 8.4\n",
      "\tTrial 2 Reward: 6.8\n",
      "\tTrial 3 Reward: 7.9\n",
      "\tTrial 4 Reward: 6.3\n",
      "\tTrial 5 Reward: 7.6\n",
      "\tTrial 6 Reward: 8.2\n",
      "\tTrial 7 Reward: 7.5\n",
      "\tTrial 8 Reward: 7.3\n",
      "\tTrial 9 Reward: 7.4\n",
      "Running experiment for expected sarsa with alpha=0.99, gamma=0.9, temp=0.1...\n",
      "\tTrial 0 Reward: 8.2\n",
      "\tTrial 1 Reward: 8.6\n",
      "\tTrial 2 Reward: 8.1\n",
      "\tTrial 3 Reward: 8.6\n",
      "\tTrial 4 Reward: 7.8\n",
      "\tTrial 5 Reward: 7.1\n",
      "\tTrial 6 Reward: 7.0\n",
      "\tTrial 7 Reward: 7.9\n",
      "\tTrial 8 Reward: 7.7\n",
      "\tTrial 9 Reward: 7.8\n",
      "Running experiment for expected sarsa with alpha=0.99, gamma=0.9, temp=0.5...\n",
      "\tTrial 0 Reward: 8.0\n",
      "\tTrial 1 Reward: 7.9\n",
      "\tTrial 2 Reward: 6.3\n",
      "\tTrial 3 Reward: 7.5\n",
      "\tTrial 4 Reward: 7.0\n",
      "\tTrial 5 Reward: 8.0\n",
      "\tTrial 6 Reward: 6.5\n",
      "\tTrial 7 Reward: 6.6\n",
      "\tTrial 8 Reward: 7.4\n",
      "\tTrial 9 Reward: 8.2\n",
      "Running experiment for expected sarsa with alpha=0.99, gamma=0.9, temp=0.75...\n",
      "\tTrial 0 Reward: 7.5\n",
      "\tTrial 1 Reward: 7.3\n",
      "\tTrial 2 Reward: 6.8\n",
      "\tTrial 3 Reward: 8.3\n",
      "\tTrial 4 Reward: 6.2\n",
      "\tTrial 5 Reward: 7.4\n",
      "\tTrial 6 Reward: 6.2\n",
      "\tTrial 7 Reward: 7.1\n",
      "\tTrial 8 Reward: 7.5\n",
      "\tTrial 9 Reward: 6.8\n",
      "Running experiment for expected sarsa with alpha=0.99, gamma=0.9, temp=1.0...\n",
      "\tTrial 0 Reward: 8.2\n",
      "\tTrial 1 Reward: 7.0\n",
      "\tTrial 2 Reward: 7.9\n",
      "\tTrial 3 Reward: 8.4\n",
      "\tTrial 4 Reward: 6.9\n",
      "\tTrial 5 Reward: 9.3\n",
      "\tTrial 6 Reward: 7.6\n",
      "\tTrial 7 Reward: 7.0\n",
      "\tTrial 8 Reward: 7.8\n",
      "\tTrial 9 Reward: 8.0\n"
     ]
    }
   ],
   "source": [
    "# define expected sarsa agent\n",
    "expected_sarsa_agents = [ExpectedSarsa(env, alpha, gamma, temp) for alpha in alphas for temp in temps]\n",
    "\n",
    "# define result array\n",
    "expected_sarsa_test_rewards = np.zeros((num_trials, len(alphas), len(temps), num_segments))\n",
    "expected_sarsa_train_rewards = np.zeros((num_trials, len(alphas), len(temps), num_segments))\n",
    "\n",
    "# run experiments for expected sarsa\n",
    "for agent in expected_sarsa_agents:\n",
    "    print(f\"Running experiment for expected sarsa with alpha={agent.alpha}, gamma={agent.gamma}, temp={agent.temp}...\")\n",
    "    for trial in range(num_trials):\n",
    "        agent.__init__(env, agent.alpha, agent.gamma, agent.temp)\n",
    "        expected_sarsa_train_rewards[trial, alphas.index(agent.alpha), temps.index(agent.temp)], expected_sarsa_test_rewards[trial, alphas.index(agent.alpha), temps.index(agent.temp)] = run_experiment(agent, env, num_segments)\n",
    "        print(f\"\\tTrial {trial} Reward: {expected_sarsa_test_rewards[trial, alphas.index(agent.alpha), temps.index(agent.temp), -10:].mean()}\")\n",
    "        \n",
    "# save results\n",
    "np.save(\"expected_sarsa_test_rewards.npy\", expected_sarsa_test_rewards)\n",
    "np.save(\"expected_sarsa_train_rewards.npy\", expected_sarsa_train_rewards)"
   ],
   "metadata": {
    "collapsed": false,
    "ExecuteTime": {
     "end_time": "2024-02-23T02:31:56.330236Z",
     "start_time": "2024-02-23T02:17:50.956361Z"
    }
   },
   "execution_count": 7
  },
  {
   "cell_type": "code",
   "outputs": [],
   "source": [
    "# load results\n",
    "sarsa_test_rewards = np.load(\"sarsa_test_rewards.npy\")\n",
    "sarsa_train_rewards = np.load(\"sarsa_train_rewards.npy\")\n",
    "expected_sarsa_test_rewards = np.load(\"expected_sarsa_test_rewards.npy\")\n",
    "expected_sarsa_train_rewards = np.load(\"expected_sarsa_train_rewards.npy\")\n",
    "\n",
    "# caluculate rewards over the last 10 segments for all trials\n",
    "sarsa_avg_test_rewards = [sarsa_test_rewards[:, i, j, -10:].mean() for i in range(len(alphas)) for j in range(len(temps))]\n",
    "sarsa_avg_train_rewards = [sarsa_train_rewards[:, i, j, -10:].mean() for i in range(len(alphas)) for j in range(len(temps))]\n",
    "expected_sarsa_avg_test_rewards = [expected_sarsa_test_rewards[:, i, j, -10:].mean() for i in range(len(alphas)) for j in range(len(temps))]\n",
    "expected_sarsa_avg_train_rewards = [expected_sarsa_train_rewards[:, i, j, -10:].mean() for i in range(len(alphas)) for j in range(len(temps))]\n",
    "\n",
    "# separate the average rewards for each temp (with all alphas) and plot them on the same graph\n",
    "sarsa_avg_test_rewards = np.array(sarsa_avg_test_rewards).reshape(len(temps), len(alphas))\n",
    "sarsa_avg_train_rewards = np.array(sarsa_avg_train_rewards).reshape(len(temps), len(alphas))\n",
    "expected_sarsa_avg_test_rewards = np.array(expected_sarsa_avg_test_rewards).reshape(len(temps), len(alphas))\n",
    "expected_sarsa_avg_train_rewards = np.array(expected_sarsa_avg_train_rewards).reshape(len(temps), len(alphas))"
   ],
   "metadata": {
    "collapsed": false
   },
   "execution_count": null
  },
  {
   "cell_type": "code",
   "outputs": [
    {
     "data": {
      "text/plain": "<Figure size 1500x500 with 2 Axes>",
      "image/png": "[encoded data removed]"
     },
     "metadata": {},
     "output_type": "display_data"
    }
   ],
   "source": [
    "plt.figure(figsize=(15, 5))\n",
    "ax1 = plt.subplot(1, 2, 1)\n",
    "# plot average training rewards\n",
    "for i in range(len(temps)):\n",
    "    plt.plot(alphas, sarsa_avg_train_rewards[i], label=f\"SARSA T={temps[i]}\")\n",
    "    # add uncertainty regions\n",
    "for i in range(len(temps)):\n",
    "    plt.plot(alphas, expected_sarsa_avg_train_rewards[i], label=f\"Expected SARSA T={temps[i]}\")\n",
    "    # add uncertainty regions\n",
    "plt.xlabel(\"Learning Rate\")\n",
    "plt.xticks(alphas)\n",
    "plt.ylabel(\"Average Training Reward\")\n",
    "plt.title(\"Training Average Reward Over Last 10 Episodes\")\n",
    "plt.legend(loc='upper center', bbox_to_anchor=(0.5, -0.15), shadow=True, ncol=2)\n",
    "\n",
    "plt.subplot(1, 2, 2, sharey=ax1, sharex=ax1)\n",
    "# plot average test rewards\n",
    "for i in range(len(temps)):\n",
    "    plt.plot(alphas, sarsa_avg_test_rewards[i], label=f\"SARSA T={temps[i]}\")\n",
    "    # add uncertainty regions\n",
    "for i in range(len(temps)):\n",
    "    plt.plot(alphas, expected_sarsa_avg_test_rewards[i], label=f\"Expected SARSA T={temps[i]}\")\n",
    "    # add uncertainty regions\n",
    "plt.xlabel(\"Learning Rate\")\n",
    "plt.xticks(alphas)\n",
    "plt.ylabel(\"Average Testing Reward\")\n",
    "plt.title(\"Testing Average Reward Over Last 10 Episodes\")\n",
    "plt.legend(loc='upper center', bbox_to_anchor=(0.5, -0.15), shadow=True, ncol=2)\n",
    "plt.show()"
   ],
   "metadata": {
    "collapsed": false,
    "ExecuteTime": {
     "end_time": "2024-02-23T03:08:07.805811Z",
     "start_time": "2024-02-23T03:08:07.553426Z"
    }
   },
   "execution_count": 29
  },
  {
   "cell_type": "code",
   "outputs": [],
   "source": [
    "plt.figure(figsize=(15, 5))\n",
    "ax1 = plt.subplot(1, 2, 1)\n",
    "# plot average training rewards\n",
    "for i in range(len(alphas)):\n",
    "    plt.plot(temps, sarsa_avg_train_rewards[i], label=f\"SARSA a={alphas[i]}\")\n",
    "    # add uncertainty regions\n",
    "for i in range(len(alphas)):\n",
    "    plt.plot(temps, expected_sarsa_avg_train_rewards[i], label=f\"Expected SARSA a={alphas[i]}\")\n",
    "    # add uncertainty regions\n",
    "plt.xlabel(\"Temperature\")\n",
    "plt.xticks(temps)\n",
    "plt.ylabel(\"Average Training Reward\")\n",
    "plt.title(\"Training Average Reward Over Last 10 Episodes\")\n",
    "plt.legend(loc='upper center', bbox_to_anchor=(0.5, -0.15), shadow=True, ncol=2)\n",
    "\n",
    "plt.subplot(1, 2, 2, sharey=ax1, sharex=ax1)\n",
    "# plot average test rewards\n",
    "for i in range(len(alphas)):\n",
    "    plt.plot(temps, sarsa_avg_test_rewards[i], label=f\"SARSA a={alphas[i]}\")\n",
    "    # add uncertainty regions\n",
    "for i in range(len(alphas)):\n",
    "    plt.plot(temps, expected_sarsa_avg_test_rewards[i], label=f\"Expected SARSA a={alphas[i]}\")\n",
    "    # add uncertainty regions\n",
    "plt.xlabel(\"Temperature\")\n",
    "plt.xticks(temps)\n",
    "plt.ylabel(\"Average Testing Reward\")\n",
    "plt.title(\"Testing Average Reward Over Last 10 Episodes\")\n",
    "plt.legend(loc='upper center', bbox_to_anchor=(0.5, -0.15), shadow=True, ncol=2)\n",
    "plt.show()"
   ],
   "metadata": {
    "collapsed": false
   }
  },
  {
   "cell_type": "code",
   "outputs": [
    {
     "name": "stdout",
     "output_type": "stream",
     "text": [
      "SARSA Best Alpha: 0.9, Best Temp: 1.0\n",
      "Expected SARSA Best Alpha: 0.99, Best Temp: 4\n"
     ]
    }
   ],
   "source": [
    "# plot the mean and standard deviation of the average rewards for the best hyperparameters of each algorithm\n",
    "sarsa_best_alpha = 0.1\n",
    "sarsa_best_temp = 0.1\n",
    "expected_sarsa_best_alpha = 0.1\n",
    "expected_sarsa_best_temp = 0.1\n",
    "\n",
    "\n",
    "# plot \n",
    "plt.figure(figsize=(15, 5))\n",
    "ax1 = plt.subplot(1, 2, 1)\n",
    "# plot Learning curves (mean and standard deviation computed based on the 10 runs) for the bestparameter setting for each algorithm.  X-axis shows the segment, Y-axis shows return over-time\n",
    "plt.plot(sarsa_train_rewards[:, alphas.index(sarsa_best_alpha), temps.index(sarsa_best_temp)].mean(axis=0), label=f\"SARSA T={sarsa_best_temp}\")\n",
    "plt.fill_between(range(num_segments), sarsa_train_rewards[:, alphas.index(sarsa_best_alpha), temps.index(sarsa_best_temp)].mean(axis=0) - sarsa_train_rewards[:, alphas.index(sarsa_best_alpha), temps.index(sarsa_best_temp)].std(axis=0), sarsa_train_rewards[:, alphas.index(sarsa_best_alpha), temps.index(sarsa_best_temp)].mean(axis=0) + sarsa_train_rewards[:, alphas.index(sarsa_best_alpha), temps.index(sarsa_best_temp)].std(axis=0), alpha=0.2)\n",
    "plt.plot(expected_sarsa_train_rewards[:, alphas.index(expected_sarsa_best_alpha), temps.index(expected_sarsa_best_temp)].mean(axis=0), label=f\"Expected SARSA T={expected_sarsa_best_temp}\")\n",
    "plt.fill_between(range(num_segments), expected_sarsa_train_rewards[:, alphas.index(expected_sarsa_best_alpha), temps.index(expected_sarsa_best_temp)].mean(axis=0) - expected_sarsa_train_rewards[:, alphas.index(expected_sarsa_best_alpha), temps.index(expected_sarsa_best_temp)].std(axis=0), expected_sarsa_train_rewards[:, alphas.index(expected_sarsa_best_alpha), temps.index(expected_sarsa_best_temp)].mean(axis=0) + expected_sarsa_train_rewards[:, alphas.index(expected_sarsa_best_alpha), temps.index(expected_sarsa_best_temp)].std(axis=0), alpha=0.2)\n",
    "plt.xlabel(\"Segment\")\n",
    "plt.ylabel(\"Average Training Reward\")\n",
    "plt.title(\"Best Hyperparameter Training Reward Over Time\")\n",
    "plt.legend(loc='upper center', bbox_to_anchor=(0.5, -0.15), shadow=True, ncol=2)"
   ],
   "metadata": {
    "collapsed": false,
    "ExecuteTime": {
     "end_time": "2024-02-23T03:16:11.157177Z",
     "start_time": "2024-02-23T03:16:11.106832Z"
    }
   },
   "execution_count": 38
  },
  {
   "cell_type": "markdown",
   "source": [],
   "metadata": {
    "collapsed": false
   }
  },
  {
   "cell_type": "markdown",
   "metadata": {},
   "source": [
    "# Question 2\n",
    "\n",
    "Suppose we are in an MDP and the reward function has the structure r(s,a) = αr1(s,a) + βr2(s,a) where α,β are real\n",
    "numbers. In this question, we investigate whether we could solve the problems defined by reward\n",
    "functions r1 and r2 independently and then somehow combine them linearly to solve the problem\n",
    "defined by r. Assume the discounted setting with a given discount γ.\n",
    "\n",
    "(a) [10 points] Suppose you are given the action-value functions qπ1 and qπ2 corresponding to the\n",
    "action-value function of an arbitrary, fixed policy π under the two reward functions. Using the\n",
    "Bellman equation, show if it is possible or not to combine these value functions in a simple\n",
    "manner (linear) to obtain qπ corresponding to reward function r.\n",
    "\n",
    "**Answer:**\n",
    "\n",
    "Starting with the Bellman equation for the action-value function $q_{\\pi}$:\n",
    "\n",
    "$$q_{\\pi}(s,a) = \\sum_{s'} P(s' | s, a) [r(s,a) + \\gamma \\sum_{a'} \\pi(a' | s') q_{\\pi}(s',a')]$$\n",
    "\n",
    "Substituting the reward function $r(s,a) = αr1(s,a) + βr2(s,a)$ we get:\n",
    "\n",
    "$$q_{\\pi}(s,a) = \\sum_{s'} P(s' | s, a) [\\alpha r1(s,a) + \\beta r2(s,a) + \\gamma \\sum_{a'} \\pi(a' | s') q_{\\pi}(s',a')]$$\n",
    "\n",
    "Substituting the action-value functions $q_{\\pi1}$ and $q_{\\pi2}$ we get:\n",
    "\n",
    "$$q_{\\pi}(s,a) = \\sum_{s'} P(s' | s, a) [\\alpha r1(s,a) + \\beta r2(s,a) + \\gamma \\sum_{a'} \\pi(a' | s') (\\alpha q_{\\pi1}(s',a') + \\beta q_{\\pi2}(s',a'))]$$\n",
    "\n",
    "Therefore we can combine the value functions linearly to obtain $q_{\\pi}$ corresponding to reward function r.\n",
    "\n",
    "(b) [10 points] Suppose you are given the optimal action-value functions q∗1 and q∗2. Using the\n",
    "Bellman equation, explain if it is possible or not to combine these value functions in a simple\n",
    "manner (linear) to obtain q∗ which optimizes reward function r.\n",
    "\n",
    "**Answer:**\n",
    "\n",
    "Using the bellman equation for the optimal action-value function q∗:\n",
    "\n",
    "$$q_{*}(s,a) =  \\sum_{s'} P(s' | s, a) [r(s,a) + \\gamma \\max_{a'} q_{*}(s',a')]$$\n",
    "\n",
    "Substituting q∗1 and q∗2 we get:\n",
    "\n",
    "$$q_{*}(s,a) =  \\sum_{s'} P(s' | s, a) [\\alpha r1(s,a) + \\beta r2(s,a) + \\gamma \\max_{a'} (\\alpha q_{*1}(s',a') + \\beta q_{*2}(s',a'))]$$\n",
    "\n",
    "Therefore we can combine the value functions in a simple manner (linear) to obtain q∗ which optimizes reward function r.\n",
    "\n"
   ]
  },
  {
   "cell_type": "markdown",
   "metadata": {},
   "source": [
    "# Question 3\n"
   ]
  },
  {
   "cell_type": "markdown",
   "metadata": {},
   "source": [
    "Consider a learning algorithm which attempts to learn a Q-function, but instead of using the usual Q-learning target $r + \\gamma \\max_{a} Q(s',a)$, it uses as target a mixture of\n",
    "\n",
    "$$R + \\gamma((1 −α) max_{a} Q(s′,a) + α\\sum_{a} \\pi(s′,a)Q(s′,a))$$\n",
    "\n",
    "where α ∈(0,1) is a hyper-parameter.\n",
    "\n",
    "Assume that π is an ε-greedy policy derived from Q, and the episodes used for training are collected using π only.\n",
    "\n",
    "(a) [5 points] Recall that an on-policy control algorithm estimates qπ(s,a) for the current behaviour policy π and for all states s and actions a. Is this algorithm on-policy or off-policy? Justify your answer.\n",
    "\n",
    "**Answer:**\n",
    "\n",
    "Since the episodes used for training are collected using π only, the algorithm is on-policy. Although the target is a mix of the greedy and ε-greedy policies, the episodes used for training are collected using the ε-greedy policy meaning that the algorithm is on-policy.\n",
    "\n",
    "\n",
    "(b) [5 points] For different values of α, how would you expect this algorithm to perform compared to Q-learning and SARSA? Include bias, variance, and maximization bias in your discussion.\n",
    "\n",
    "**Answer:**\n",
    "\n",
    "Since this algorithm is a combination of Q-learning and SARSA, you would expect this algorithm to perform in between them. When α = 0, the algorithm is equal to SARSA, and when α = 1, the algorithm is equal to Q-learning so if α ∈ (0,1), the algorithm is a mix of both. When α is close to 0, the algorithm will have a higher bias and lower variance coming from the Q-learning, and when α is close to 1, the algorithm will have a lower bias and higher variance coming from the SARSA. The maximization bias will be lower when α is close to 0 and higher when α is close to 1."
   ]
  }
 ],
 "metadata": {
  "colab": {
   "provenance": []
  },
  "kernelspec": {
   "display_name": "Python 3 (ipykernel)",
   "language": "python",
   "name": "python3"
  },
  "language_info": {
   "name": "python",
   "version": "3.11.2"
  }
 },
 "nbformat": 4,
 "nbformat_minor": 0
}
